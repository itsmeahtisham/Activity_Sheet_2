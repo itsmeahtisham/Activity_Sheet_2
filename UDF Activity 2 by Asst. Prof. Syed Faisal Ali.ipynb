{
 "cells": [
  {
   "cell_type": "markdown",
   "metadata": {},
   "source": [
    "# Python User Define Function Practice Activity - 2 "
   ]
  },
  {
   "cell_type": "markdown",
   "metadata": {},
   "source": [
    "Asst. Prof. Syed Faisal Ali              $\\;\\;\\;\\;\\;\\;$              Programming Fundamentals - FALL 2019 $\\;\\;\\;\\;\\;\\;$ Software Engineering                     $\\;\\;\\;\\;\\;\\;$                   Dated: 27 Nov 2019"
   ]
  },
  {
   "cell_type": "markdown",
   "metadata": {},
   "source": [
    "Question 1: Create a function to find the following:\n",
    "If the base of triangle is 3 cm long and its equilateral triangle and the radius of circle is 1.5 cm then find the area of triangle shaded. \n"
   ]
  },
  {
   "cell_type": "markdown",
   "metadata": {},
   "source": [
    "![proj](q1.jpg)"
   ]
  },
  {
   "cell_type": "code",
   "execution_count": 7,
   "metadata": {},
   "outputs": [
    {
     "name": "stdout",
     "output_type": "stream",
     "text": [
      "Enter side of equilateral triangle in cm: 3\n",
      "Enter the radius of circle in cm: 1.5\n",
      "The Area of Shading part of trangle is:  16.31410243160281 cm²\n"
     ]
    }
   ],
   "source": [
    "from math import pi , sin\n",
    "\n",
    "def areashade(base,radius):\n",
    "    height = base*(sin(60*pi/180))\n",
    "    area = (1/2)*base*height\n",
    "    #print(area)\n",
    "    area_of_circle = pi *radius**2\n",
    "    area_shaded = (area*6)-(area_of_circle)\n",
    "    print(\"The Area of Shading part of trangle is: \",area_shaded,\"cm\\u00b2\")\n",
    "    return\n",
    "base = eval(input(\"Enter side of equilateral triangle in cm: \"))\n",
    "radius = eval(input(\"Enter the radius of circle in cm: \"))\n",
    "areashade(base,radius)"
   ]
  },
  {
   "cell_type": "markdown",
   "metadata": {},
   "source": [
    "Question 2: Create a function which can read a dictionary of your family members such as 5 members. \n",
    "1 Abbu, 1 Ammi, 2 Brothers 1 Sister. Now feed this data in dictionary in terms of name and relations.\n",
    "The UDF will ask findrelation() in this you will enter Brother it will return the names of two brothers you have inserted. In case if the relation is not found it will return “Sorry the relation doesn’t exist in your family.” \n"
   ]
  },
  {
   "cell_type": "code",
   "execution_count": 10,
   "metadata": {},
   "outputs": [
    {
     "name": "stdout",
     "output_type": "stream",
     "text": [
      "Find relation ship: brother\n",
      "name:  M.Afham , Usama Ahmed\n"
     ]
    }
   ],
   "source": [
    "def findrelation(x):\n",
    "    family = {\"father\":\"Abdul Sattar\",\"mother\":\"Ishrat Sattar\",\"brother\":\"M.Afham , Usama Ahmed\",\"sister\":\"Manahil\"}\n",
    "    if x == \"brother\" or x == \"sister\" or x == \"father\" or x == \"mother\":\n",
    "        print(\"name: \",family[x]) \n",
    "    else:\n",
    "        print(\"Sorry the relation doesn’t exist in your family.\")\n",
    "    return\n",
    "x = str(input(\"Find relation ship: \"))\n",
    "findrelation(x)"
   ]
  },
  {
   "cell_type": "markdown",
   "metadata": {},
   "source": [
    "Question 3: Create a function to find the following:\n",
    "If the base of triangle is 5 cm long and its equilateral triangle and the radius of circle is 2.25 cm then find the area of triangle shaded. \n"
   ]
  },
  {
   "cell_type": "markdown",
   "metadata": {},
   "source": [
    "![proj](q3.jpg)"
   ]
  },
  {
   "cell_type": "code",
   "execution_count": 1,
   "metadata": {},
   "outputs": [
    {
     "name": "stdout",
     "output_type": "stream",
     "text": [
      "Enter the radius of a circle: 2.25\n",
      "Shaded area is:  2.650718801466388 cm²\n"
     ]
    }
   ],
   "source": [
    "from math import pi, sin\n",
    "\n",
    "def shaded_area(radius):\n",
    "    area = (pi*radius**2)/6\n",
    "    print(\"Shaded area is: \",area,\"cm\\u00b2\")\n",
    "    return\n",
    "radius = eval(input(\"Enter the radius of a circle: \"))\n",
    "shaded_area(radius)"
   ]
  },
  {
   "cell_type": "markdown",
   "metadata": {},
   "source": [
    "Question 4:\n",
    "Create a function that takes a list of random numbers from users and add only those which are even. If all the numbers are odd it will return sorry no even number found.\n"
   ]
  },
  {
   "cell_type": "code",
   "execution_count": 6,
   "metadata": {},
   "outputs": [
    {
     "name": "stdout",
     "output_type": "stream",
     "text": [
      "Enter the numbers: 3\n",
      "1\n",
      "3\n",
      "5\n"
     ]
    },
    {
     "data": {
      "text/plain": [
       "'soory no even number found'"
      ]
     },
     "execution_count": 6,
     "metadata": {},
     "output_type": "execute_result"
    }
   ],
   "source": [
    "def evenadder(n):\n",
    "    list =[]\n",
    "    for i in range(0,n):\n",
    "        x = int(input())\n",
    "        list.append(x)\n",
    "    lst = []\n",
    "    for i in list:\n",
    "        if (i % 2 == 0):\n",
    "            lst.append(i)\n",
    "        else:\n",
    "            return \"soory no even number found\"\n",
    "    print(\"Even list: \",lst)\n",
    "    return\n",
    "n = int(input(\"Enter the numbers: \"))\n",
    "evenadder(n)"
   ]
  },
  {
   "cell_type": "markdown",
   "metadata": {},
   "source": [
    "Question 5:\n",
    "Write a function which can take a list of numbers and it will return sorted list.\n"
   ]
  },
  {
   "cell_type": "code",
   "execution_count": 3,
   "metadata": {},
   "outputs": [
    {
     "name": "stdout",
     "output_type": "stream",
     "text": [
      "Enter how many numbers you want to add: 5\n",
      "3\n",
      "9\n",
      "6\n",
      "2\n",
      "1\n",
      "['1', '2', '3', '6', '9']\n"
     ]
    }
   ],
   "source": [
    "def sortlist(n):\n",
    "    lst = []\n",
    "    for i in range(0,n):\n",
    "        x = input()\n",
    "        lst.append(x)\n",
    "        y = lst.sort()\n",
    "    print(lst)\n",
    "    return\n",
    "n = int(input(\"Enter how many numbers you want to add: \"))\n",
    "sortlist(n)"
   ]
  },
  {
   "cell_type": "markdown",
   "metadata": {},
   "source": [
    "Question 6:Write a function that will take the radius and return the perimeter and area of circle with 5% increment.\n"
   ]
  },
  {
   "cell_type": "code",
   "execution_count": 26,
   "metadata": {},
   "outputs": [
    {
     "name": "stdout",
     "output_type": "stream",
     "text": [
      "Enter the radius in (cm): 5\n",
      "Area of Circle is:  78.53981633974483 cm² \n",
      "Perimeter Of circle is:  31.41592653589793 cm\n",
      "5% increment of area:  82.46680715673207 cm² \n",
      "5% increment of perimeter:  32.98672286269283 cm\n"
     ]
    }
   ],
   "source": [
    "from math import pi\n",
    "def circle(radius):\n",
    "    area = pi*radius**2\n",
    "    perimeter = 2*pi*radius\n",
    "    inct_area = area*0.05 + area\n",
    "    inct_perimeter = perimeter*0.05 + perimeter\n",
    "    print(\"Area of Circle is: \",area,\"cm\\u00b2 \\nPerimeter Of circle is: \", perimeter,\"cm\")\n",
    "    print(\"5% increment of area: \",inct_area,\"cm\\u00b2 \\n5% increment of perimeter: \", inct_perimeter,\"cm\")\n",
    "    return\n",
    "radius = eval(input(\"Enter the radius in (cm): \"))\n",
    "circle(radius)"
   ]
  },
  {
   "cell_type": "markdown",
   "metadata": {},
   "source": [
    "Question 7:\n",
    "Write a function that will take the strings as argument and return number of vowels and consonants.\n"
   ]
  },
  {
   "cell_type": "code",
   "execution_count": 7,
   "metadata": {},
   "outputs": [
    {
     "name": "stdout",
     "output_type": "stream",
     "text": [
      "Enter you string: pakistan\n",
      "vowels are:  3\n",
      "consonants are:  5\n"
     ]
    }
   ],
   "source": [
    "def counter(string):\n",
    "    vowels = 0\n",
    "    consonants = 0\n",
    "    for i in string:\n",
    "        if(i in \"AEIOUaeiou\"):\n",
    "            vowels = vowels+1\n",
    "        else:\n",
    "            consonants = consonants+1\n",
    "    print(\"vowels are: \",vowels)\n",
    "    print(\"consonants are: \",consonants)\n",
    "        \n",
    "    return\n",
    "string = str(input(\"Enter you string: \"))\n",
    "counter(string)"
   ]
  },
  {
   "cell_type": "markdown",
   "metadata": {},
   "source": [
    "Question 8:\n",
    "Write a function that will take length and breadth for a rectangle and return perimeter and area of rectangle with 8% increment.\n"
   ]
  },
  {
   "cell_type": "code",
   "execution_count": 14,
   "metadata": {},
   "outputs": [
    {
     "name": "stdout",
     "output_type": "stream",
     "text": [
      "Enter the lenght in (cm): 4\n",
      "Enter the breadth in (cm): 5\n",
      "Area of rectangle is:  20 cm² \n",
      "Perimeter Of rectangle is:  18 cm\n",
      "8% increment of area:  21.6 cm² \n",
      "8% increment of perimeter:  19.44 cm\n"
     ]
    }
   ],
   "source": [
    "def rectangle(lenght,breadth):\n",
    "    area = lenght*breadth\n",
    "    perimeter = 2*(lenght+breadth)\n",
    "    inct_area = area*0.08 + area\n",
    "    inct_perimeter = perimeter*0.08 + perimeter\n",
    "    print(\"Area of rectangle is: \",area,\"cm\\u00b2 \\nPerimeter Of rectangle is: \", perimeter,\"cm\")\n",
    "    print(\"8% increment of area: \",inct_area,\"cm\\u00b2 \\n8% increment of perimeter: \", inct_perimeter,\"cm\")\n",
    "    return\n",
    "lenght = eval(input(\"Enter the lenght in (cm): \"))\n",
    "breadth = eval(input(\"Enter the breadth in (cm): \"))\n",
    "rectangle(lenght,breadth)"
   ]
  },
  {
   "cell_type": "markdown",
   "metadata": {},
   "source": [
    "Question 9:\n",
    "Write a function that can take the numbers in strings. From string find which number is even and which one is odd. Save them in two different lists and generate the result.\n"
   ]
  },
  {
   "cell_type": "code",
   "execution_count": 21,
   "metadata": {},
   "outputs": [
    {
     "name": "stdout",
     "output_type": "stream",
     "text": [
      "Enter the number: 5\n",
      "Odd List is:  ['5']\n"
     ]
    }
   ],
   "source": [
    "def even_odd(number):\n",
    "    x = int(number)\n",
    "    even_list = []\n",
    "    odd_list = []\n",
    "    if(x % 2 == 0):\n",
    "        x = str(number)\n",
    "        even_list.append(x)\n",
    "        print(\"Even List is: \",even_list)\n",
    "    else:\n",
    "        x = str(number)\n",
    "        odd_list.append(x)\n",
    "        print(\"Odd List is: \",odd_list)\n",
    "   \n",
    "    return\n",
    "number = int(input(\"Enter the number: \"))\n",
    "even_odd(number)"
   ]
  },
  {
   "cell_type": "markdown",
   "metadata": {},
   "source": [
    "Question 10:\n",
    "Write a function which will take the string from the user and return how many alphabets have been used in it and which alphabets are missing.\n"
   ]
  },
  {
   "cell_type": "code",
   "execution_count": null,
   "metadata": {},
   "outputs": [],
   "source": [
    "def alphabets(string):\n",
    "    "
   ]
  },
  {
   "cell_type": "markdown",
   "metadata": {},
   "source": [
    "Question 11:\n",
    "Write a function that will take verbs in words and return a list of verbs with continuous tense by adding (ing) at the end of each verb.\n"
   ]
  },
  {
   "cell_type": "code",
   "execution_count": 22,
   "metadata": {},
   "outputs": [
    {
     "name": "stdout",
     "output_type": "stream",
     "text": [
      "Enter verb: talk\n",
      "continuos tense is: talking\n"
     ]
    }
   ],
   "source": [
    "def verb(v):\n",
    "    print(\"continuos tense is: \"+v+\"ing\")\n",
    "    return\n",
    "v = str(input(\"Enter verb: \"))\n",
    "verb(v)"
   ]
  },
  {
   "cell_type": "markdown",
   "metadata": {},
   "source": [
    "Question 12:\n",
    "Make a function which can take two radius of circles and find the areas of it and subtract smaller one from larger one and tell the remaining area of circle.\n"
   ]
  },
  {
   "cell_type": "code",
   "execution_count": 25,
   "metadata": {},
   "outputs": [
    {
     "name": "stdout",
     "output_type": "stream",
     "text": [
      "Enter the radius of first circle in (cm): 2\n",
      "Enter the radius of second circle in (cm): 4\n",
      "Area of First Circle is:  12.566370614359172 cm²\n",
      "Area of Second Circle is:  50.26548245743669 cm²\n",
      "Remaining Area of circle is:  37.69911184307752 cm²\n"
     ]
    }
   ],
   "source": [
    "from math import pi\n",
    "def circle(radius1,radius2):\n",
    "    area1 = pi*radius1**2\n",
    "    print(\"Area of First Circle is: \",area1,\"cm\\u00b2\")\n",
    "    area2 = pi*radius2**2\n",
    "    print(\"Area of Second Circle is: \",area2,\"cm\\u00b2\")\n",
    "    if (area1>area2):\n",
    "        remaining_area = area1 -area2\n",
    "    elif(area2>area1):\n",
    "        remaining_area = area2 - area1\n",
    "    print(\"Remaining Area of circle is: \", remaining_area,\"cm\\u00b2\")  \n",
    "    return\n",
    "radius1 = eval(input(\"Enter the radius of first circle in (cm): \"))\n",
    "radius2 = eval(input(\"Enter the radius of second circle in (cm): \"))\n",
    "circle(radius1,radius2)"
   ]
  },
  {
   "cell_type": "markdown",
   "metadata": {},
   "source": [
    "Question 13:\n",
    "Write a function that will take a string and calculate number of Upper case letters and lower case letters.\n"
   ]
  },
  {
   "cell_type": "code",
   "execution_count": 37,
   "metadata": {},
   "outputs": [
    {
     "name": "stdout",
     "output_type": "stream",
     "text": [
      "Enter your string: AhtisHam\n",
      "Number of lower case:  6\n",
      "Number of upper case:  2\n"
     ]
    }
   ],
   "source": [
    "def counter(string):\n",
    "    count_upper = 0\n",
    "    count_lower = 0\n",
    "    for i in string:\n",
    "        if(i.islower()):\n",
    "            count_lower = count_lower+1\n",
    "        elif(i.isupper()):\n",
    "            count_upper = count_upper+1\n",
    "    print(\"Number of lower case: \",count_lower)\n",
    "    print(\"Number of upper case: \",count_upper)\n",
    "    return\n",
    "string = str(input(\"Enter your string: \"))\n",
    "counter(string)"
   ]
  },
  {
   "cell_type": "markdown",
   "metadata": {},
   "source": [
    "Question 14:\n",
    "Write a function which will take length and breadth of two rectangles. Subtract the smaller rectangle from the larger rectangle and return the area left behind.\n"
   ]
  },
  {
   "cell_type": "code",
   "execution_count": 6,
   "metadata": {},
   "outputs": [
    {
     "name": "stdout",
     "output_type": "stream",
     "text": [
      "Enter the lenght of first rectangle in (cm): 5\n",
      "Enter the breadth of first rectangle in (cm): 6\n",
      "Enter the lenght of second rectanglein (cm): 2\n",
      "Enter the breadth of seond rectangle in (cm): 3\n",
      "Area of first rectangle is:  30 cm²\n",
      "Area of second rectangle is:  6 cm²\n",
      "Remaining Area of rectangle is:  24 cm²\n"
     ]
    }
   ],
   "source": [
    "from math import pi\n",
    "def rectangle(l1,b1,l2,b2):\n",
    "    area1 = l1*b1\n",
    "    print(\"Area of first rectangle is: \",area1,\"cm\\u00b2\")\n",
    "    area2 = l2*b2\n",
    "    print(\"Area of second rectangle is: \",area2,\"cm\\u00b2\")\n",
    "    if (l1>l2 or b1>b2):\n",
    "        remaining_area = area1 -area2\n",
    "        print(\"Remaining Area of rectangle is: \", remaining_area,\"cm\\u00b2\")\n",
    "    else:\n",
    "        remaining_area = area2 - area1\n",
    "        print(\"Remaining Area of rectangle is: \", remaining_area,\"cm\\u00b2\")  \n",
    "    return\n",
    "l1 = eval(input(\"Enter the lenght of first rectangle in (cm): \"))\n",
    "b1 = eval(input(\"Enter the breadth of first rectangle in (cm): \"))\n",
    "l2 = eval(input(\"Enter the lenght of second rectanglein (cm): \"))\n",
    "b2 = eval(input(\"Enter the breadth of seond rectangle in (cm): \"))\n",
    "rectangle(l1,b1,l2,b2)"
   ]
  },
  {
   "cell_type": "markdown",
   "metadata": {},
   "source": [
    "Question 15:\n",
    "Create a function that can add the fractions in series such as 1 to 8 = 1/8+1/7+1/6+1/5 …… ½ and return the result in fraction not in decimal.\n"
   ]
  },
  {
   "cell_type": "code",
   "execution_count": 31,
   "metadata": {},
   "outputs": [
    {
     "name": "stdout",
     "output_type": "stream",
     "text": [
      "Enter staring value of serires: 1\n",
      "Enter Ending value of series: 8\n",
      "The sum of fractions is: 363/140\n"
     ]
    }
   ],
   "source": [
    "from fractions import Fraction\n",
    "def addfraction(st_value,lt_value):\n",
    "    sum = 0\n",
    "    for i in range(st_value,lt_value):\n",
    "        sum = sum + Fraction(1,i) \n",
    "    print(\"The sum of fractions is:\",sum)\n",
    "    return\n",
    "    \n",
    "st_value = int(input(\"Enter staring value of serires: \"))\n",
    "lt_value = int(input(\"Enter Ending value of series: \"))\n",
    "addfraction(st_value,lt_value)"
   ]
  },
  {
   "cell_type": "markdown",
   "metadata": {},
   "source": [
    "Question 16:\n",
    "Write a function which will take height and base for a triangle and \n"
   ]
  },
  {
   "cell_type": "code",
   "execution_count": null,
   "metadata": {},
   "outputs": [],
   "source": [
    "#Question Incomplete"
   ]
  },
  {
   "cell_type": "markdown",
   "metadata": {},
   "source": [
    "Question 17:\n",
    "Write a function which will take a list of fruits names. The function will return how many alphabets are repetitive in the names of fruits and how many are unique letters.\n"
   ]
  },
  {
   "cell_type": "code",
   "execution_count": null,
   "metadata": {},
   "outputs": [],
   "source": [
    "def fruit():\n",
    "    alphabets = ['a','b','c','d','e','f','g','h','i','j','k','l','m','n','o','p','q','r','s','t','u','v','w','x','y','z']\n",
    "    fruits = ['apple','orange','banana','mango','grapes']\n",
    "    repetitive = [] \n",
    "    unique = []"
   ]
  },
  {
   "cell_type": "markdown",
   "metadata": {},
   "source": [
    "Question 18:\n",
    "Write a function that can take square length and radius of circle. Find the area of both and subtract the smallest shape from largest one and return the remaining shape area.\n"
   ]
  },
  {
   "cell_type": "code",
   "execution_count": 3,
   "metadata": {},
   "outputs": [
    {
     "name": "stdout",
     "output_type": "stream",
     "text": [
      "Enter the lenght of square: 5\n",
      "Enter the radius of circle: 4\n",
      "Area of square is:  25 cm²\n",
      "Area of circle is:  50.26548245743669 cm²\n",
      "The remaining area is: 25.26548245743669 cm²\n"
     ]
    }
   ],
   "source": [
    "from math import pi\n",
    "def area(l,r):\n",
    "    areasquare = l**2\n",
    "    print(\"Area of square is: \",areasquare,\"cm\\u00b2\")\n",
    "    areacircle = pi*r**2\n",
    "    print(\"Area of circle is: \",areacircle,\"cm\\u00b2\")\n",
    "    if areasquare > areacircle:\n",
    "        x = areasquare - areacircle\n",
    "        print(\"The remaining area is:\",x,\"cm\\u00b2\")\n",
    "    else:\n",
    "        x = areacircle -areasquare\n",
    "        print(\"The remaining area is:\",x,\"cm\\u00b2\")\n",
    "    return\n",
    "l = eval(input(\"Enter the lenght of square: \"))\n",
    "r = eval(input(\"Enter the radius of circle: \"))\n",
    "area(l,r)\n"
   ]
  }
 ],
 "metadata": {
  "kernelspec": {
   "display_name": "Python 3",
   "language": "python",
   "name": "python3"
  },
  "language_info": {
   "codemirror_mode": {
    "name": "ipython",
    "version": 3
   },
   "file_extension": ".py",
   "mimetype": "text/x-python",
   "name": "python",
   "nbconvert_exporter": "python",
   "pygments_lexer": "ipython3",
   "version": "3.7.4"
  }
 },
 "nbformat": 4,
 "nbformat_minor": 2
}
